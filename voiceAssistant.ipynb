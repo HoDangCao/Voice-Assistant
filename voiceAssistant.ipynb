{
 "cells": [
  {
   "cell_type": "markdown",
   "metadata": {},
   "source": [
    "# Voice Assistant"
   ]
  },
  {
   "cell_type": "code",
   "execution_count": null,
   "metadata": {},
   "outputs": [
    {
     "name": "stdout",
     "output_type": "stream",
     "text": [
      "Adjusting for ambient noise... Please wait.\n",
      "Listening... Speak now!\n",
      "Processing audio...\n",
      "You said: bye-bye\n"
     ]
    }
   ],
   "source": [
    "import speech_recognition as sr\n",
    "import pyttsx3\n",
    "engine = pyttsx3.init()\n",
    "\n",
    "from langchain_ollama import ChatOllama\n",
    "llm = ChatOllama(model='mistral', quantization='1bit')\n",
    "\n",
    "recognizer = sr.Recognizer()\n",
    "with sr.Microphone() as source:\n",
    "    print(\"Adjusting for ambient noise... Please wait.\")\n",
    "    recognizer.adjust_for_ambient_noise(source)\n",
    "    while True:\n",
    "        try:\n",
    "            print(\"Listening... Speak now!\")\n",
    "            # Listen and capture the audio\n",
    "            audio = recognizer.listen(source)\n",
    "            print(\"Processing audio...\")\n",
    "\n",
    "            # with open('command.wav', 'wb') as f:\n",
    "            #     f.write(audio.get_wav_data())\n",
    "\n",
    "            # Recognize speech using Google's Web Speech API\n",
    "            text = recognizer.recognize_google(audio)\n",
    "            print(\"You said:\", text)\n",
    "\n",
    "            if text == 'bye-bye': break\n",
    "\n",
    "            response = llm.invoke('Answer the following question concisely: '+ text).content.strip()\n",
    "            print(\"response: \" + response)\n",
    "            engine.say(response)\n",
    "            engine.runAndWait()\n",
    "            \n",
    "        except sr.UnknownValueError:\n",
    "            print(\"Sorry, I could not understand the audio.\")\n",
    "        except sr.RequestError as e:\n",
    "            print(f\"Could not request results from the service; {e}\")\n",
    "        except KeyboardInterrupt:\n",
    "            print(\"Stopped by user.\")"
   ]
  },
  {
   "cell_type": "code",
   "execution_count": 14,
   "metadata": {},
   "outputs": [
    {
     "data": {
      "text/plain": [
       "'The capital of the Netherlands, also known as Holland (although it is actually two provinces of the country), is Amsterdam. However, it\\'s important to note that \"Dutch\" refers to the language spoken in the Netherlands and some parts of Germany, Belgium, and Suriname. Therefore, there is no capital for Dutch as a language.'"
      ]
     },
     "execution_count": 14,
     "metadata": {},
     "output_type": "execute_result"
    }
   ],
   "source": [
    "from langchain_ollama import ChatOllama\n",
    "llm = ChatOllama(model='mistral', quantization='1bit')\n",
    "llm.invoke('what is the capital of Dutch?').content.strip()"
   ]
  },
  {
   "cell_type": "code",
   "execution_count": 24,
   "metadata": {},
   "outputs": [
    {
     "data": {
      "text/plain": [
       "'The original URL for NetTruyen (Net Read) is: https://nettruyen.vn/'"
      ]
     },
     "execution_count": 24,
     "metadata": {},
     "output_type": "execute_result"
    }
   ],
   "source": [
    "prompt = \"\"\"Your mission is to give the original online URL of websites. For example:\n",
    "Youtube: https://www.youtube.com/\n",
    "Messenger: https://www.messenger.com/\n",
    "ChatGPT: https://chatgpt.com/\n",
    "Google Translate: https://translate.google.com/\n",
    "Gmail: https://mail.google.com/\n",
    "Zalo: https://chat.zalo.me/\n",
    "The original URL of {webName} is: \n",
    "\"\"\"\n",
    "llm.invoke(prompt.format(webName = 'nettruyen')).content.strip()"
   ]
  },
  {
   "cell_type": "code",
   "execution_count": null,
   "metadata": {},
   "outputs": [],
   "source": [
    "from selenium import webdriver\n",
    "import time\n",
    "\n",
    "# Start the browser and open YouTube Shorts\n",
    "driver = webdriver.Chrome()\n",
    "ut_short_path = \"https://www.youtube.com/shorts\"\n",
    "driver.get(ut_short_path)\n",
    "driver.maximize_window()\n",
    "time.sleep(3)  # Wait for the page to load\n",
    "\n",
    "# Close the browser\n",
    "# driver.quit()"
   ]
  },
  {
   "cell_type": "code",
   "execution_count": 35,
   "metadata": {},
   "outputs": [
    {
     "name": "stdout",
     "output_type": "stream",
     "text": [
      "<PIL.Image.Image image mode=RGB size=1920x1080 at 0x29E770F2690>\n",
      "Screenshot saved as 'screenshot_1733068883541383700.png'\n"
     ]
    }
   ],
   "source": [
    "# take a screen shot\n",
    "from PIL import ImageGrab\n",
    "import time\n",
    "\n",
    "# Take a screenshot of the entire screen\n",
    "screenshot = ImageGrab.grab()\n",
    "\n",
    "print(screenshot)\n",
    "# Save the screenshot\n",
    "screenshot.save(f\"screenshot_{time.time_ns()}.png\")\n",
    "\n",
    "# Display a message\n",
    "print(f\"Screenshot saved as 'screenshot_{time.time_ns()}.png'\")"
   ]
  },
  {
   "cell_type": "code",
   "execution_count": null,
   "metadata": {},
   "outputs": [
    {
     "name": "stdout",
     "output_type": "stream",
     "text": [
      "{'C0': 16.35, 'C#0': 17.32, 'Db0': 17.32, 'D0': 18.35, 'D#0': 19.45, 'Eb0': 19.45, 'E0': 20.6, 'F0': 21.83, 'F#0': 23.12, 'Gb0': 23.12, 'G0': 24.5, 'G#0': 25.96, 'Ab0': 25.96, 'A0': 27.5, 'A#0': 29.14, 'Bb0': 29.14, 'B0': 30.87, 'C1': 32.7, 'C#1': 34.65, 'Db1': 34.65, 'D1': 36.71, 'D#1': 38.89, 'Eb1': 38.89, 'E1': 41.2, 'F1': 43.65, 'F#1': 46.25, 'Gb1': 46.25, 'G1': 49.0, 'G#1': 51.91, 'Ab1': 51.91, 'A1': 55.0, 'A#1': 58.27, 'Bb1': 58.27, 'B1': 61.74, 'C2': 65.41, 'C#2': 69.3, 'Db2': 69.3, 'D2': 73.42, 'D#2': 77.78, 'Eb2': 77.78, 'E2': 82.41, 'F2': 87.31, 'F#2': 92.5, 'Gb2': 92.5, 'G2': 98.0, 'G#2': 103.83, 'Ab2': 103.83, 'A2': 110.0, 'A#2': 116.54, 'Bb2': 116.54, 'B2': 123.47, 'C3': 130.81, 'C#3': 138.59, 'Db3': 138.59, 'D3': 146.83, 'D#3': 155.56, 'Eb3': 155.56, 'E3': 164.81, 'F3': 174.61, 'F#3': 185.0, 'Gb3': 185.0, 'G3': 196.0, 'G#3': 207.65, 'Ab3': 207.65, 'A3': 220.0, 'A#3': 233.08, 'Bb3': 233.08, 'B3': 246.94, 'C4': 261.63, 'C#4': 277.18, 'Db4': 277.18, 'D4': 293.66, 'D#4': 311.13, 'Eb4': 311.13, 'E4': 329.63, 'F4': 349.23, 'F#4': 369.99, 'Gb4': 369.99, 'G4': 392.0, 'G#4': 415.3, 'Ab4': 415.3, 'A4': 440.0, 'A#4': 466.16, 'Bb4': 466.16, 'B4': 493.88, 'C5': 523.25, 'C#5': 554.37, 'Db5': 554.37, 'D5': 587.33, 'D#5': 622.25, 'Eb5': 622.25, 'E5': 659.25, 'F5': 698.46, 'F#5': 739.99, 'Gb5': 739.99, 'G5': 783.99, 'G#5': 830.61, 'Ab5': 830.61, 'A5': 880.0, 'A#5': 932.33, 'Bb5': 932.33, 'B5': 987.77, 'C6': 1046.5, 'C#6': 1108.73, 'Db6': 1108.73, 'D6': 1174.66, 'D#6': 1244.51, 'Eb6': 1244.51, 'E6': 1318.51, 'F6': 1396.91, 'F#6': 1479.98, 'Gb6': 1479.98, 'G6': 1567.98, 'G#6': 1661.22, 'Ab6': 1661.22, 'A6': 1760.0, 'A#6': 1864.66, 'Bb6': 1864.66, 'B6': 1975.53, 'C7': 2093.0, 'C#7': 2217.46, 'Db7': 2217.46, 'D7': 2349.32, 'D#7': 2489.02, 'Eb7': 2489.02, 'E7': 2637.02, 'F7': 2793.83, 'F#7': 2959.96, 'Gb7': 2959.96, 'G7': 3135.96, 'G#7': 3322.44, 'Ab7': 3322.44, 'A7': 3520.0, 'A#7': 3729.31, 'Bb7': 3729.31, 'B7': 3951.07, 'C8': 4186.01}\n"
     ]
    }
   ],
   "source": [
    "import numpy as np\n",
    "note_frequencies = np.load('note_frequencies.npy', allow_pickle=True).item()\n",
    "print(note_frequencies)"
   ]
  },
  {
   "cell_type": "code",
   "execution_count": null,
   "metadata": {},
   "outputs": [],
   "source": [
    "import sounddevice as sd\n",
    "def create_note(note_name, duration): # Duration in seconds\n",
    "    num_sample = int(sample_rate * duration)\n",
    "    amplitude = np.linspace(1, 0, num_sample, endpoint=False)\n",
    "    frequency = note_frequencies[note_name]\n",
    "    t = np.linspace(0, duration, num_sample, endpoint=False)\n",
    "    return np.float32(amplitude * np.sin(2 * np.pi * frequency * t))  # 440 Hz sine wave, # Convert to 16-bit PCM format\n",
    "\n",
    "sample_rate = 44100\n",
    "sd.play(create_note('C4',5), sample_rate)"
   ]
  },
  {
   "cell_type": "code",
   "execution_count": null,
   "metadata": {},
   "outputs": [],
   "source": [
    "def create_song(notes):\n",
    "    song = np.array([])\n",
    "    for note in notes:\n",
    "        song = np.concatenate([song, create_note(note[0], note[1])])\n",
    "        song = np.concatenate([song, np.zeros(int(sample_rate * 0.1))])\n",
    "    \n",
    "    return np.float32(song)\n",
    "\n",
    "flattened_notes = [\n",
    "    ('G4', 0.5), ('G4', 0.5), ('A4', 0.75), ('G4', 0.5), ('C5', 0.5), ('B4', 0.75),\n",
    "    ('G4', 0.5), ('G4', 0.5), ('A4', 0.75), ('G4', 0.5), ('D5', 0.5), ('C5', 0.75),\n",
    "    ('G4', 0.5), ('G4', 0.5), ('E5', 0.75), ('C5', 0.5), ('B4', 0.5), ('A4', 0.75),\n",
    "    ('F5', 0.5), ('F5', 0.5), ('E5', 0.75), ('C5', 0.5), ('D5', 0.75), ('C5', 1)\n",
    "]\n",
    "sd.play(create_song(flattened_notes), sample_rate)"
   ]
  },
  {
   "cell_type": "code",
   "execution_count": 3,
   "metadata": {},
   "outputs": [
    {
     "data": {
      "text/plain": [
       "\"[('F4', 0.5), ('G4', 0.5), ('C5', 1.5), ('D5', 1.5), ('E5', 1.5), ('F5', 1.5), ('B4', 0.5), ('A4', 0.5), ('F4', 1), ('G4', 0.5), ('C5', 0.5), ('D5', 0.5), ('E5', 0.5), ('F5', 0.5), ('F5', 0.5), ('E5', 0.5), ('D5', 0.5), ('C5', 1)]\""
      ]
     },
     "execution_count": 3,
     "metadata": {},
     "output_type": "execute_result"
    }
   ],
   "source": [
    "import re\n",
    "response = \"\"\"Playing song Happy New Year: I'm sorry for the inconvenience, but there seems to be no standard solfa notation for the \"Happy New Year\" song across different cultures and versions of the song. However, here is an example in solfa notation for a popular version of \"Auld Lang Syne\":\n",
    "\n",
    "[('F4', 0.5), ('G4', 0.5), ('C5', 1.5), ('D5', 1.5), ('E5', 1.5), ('F5', 1.5), ('B4', 0.5), ('A4', 0.5), ('F4', 1), ('G4', 0.5), ('C5', 0.5), ('D5', 0.5), ('E5', 0.5), ('F5', 0.5), ('F5', 0.5), ('E5', 0.5), ('D5', 0.5), ('C5', 1)]\"\"\"\n",
    "\n",
    "pattern = r\"\\[\\('.*?',\\s*[\\d.]+\\)(?:,\\s*\\('.*?',\\s*[\\d.]+\\))*\\]\"\n",
    "re.findall(pattern, response)[0]"
   ]
  },
  {
   "cell_type": "code",
   "execution_count": null,
   "metadata": {},
   "outputs": [
    {
     "name": "stdout",
     "output_type": "stream",
     "text": [
      "Press 'Ctrl+C' or 'q' key to stop recording...\n",
      "Recording stopped.\n"
     ]
    }
   ],
   "source": [
    "import cv2\n",
    "from PIL import ImageGrab\n",
    "import numpy as np\n",
    "\n",
    "# Set up screen dimensions and output file\n",
    "screen_size = ImageGrab.grab().size # Get screen resolution (width, height)\n",
    "output_file = \"screen_recording.avi\"  # Output file name\n",
    "fps = 20.0  # Frames per second\n",
    "\n",
    "# Define codec and create VideoWriter object\n",
    "fourcc = cv2.VideoWriter_fourcc(*\"XVID\")  # Codec for AVI format\n",
    "out = cv2.VideoWriter(output_file, fourcc, fps, screen_size)\n",
    "\n",
    "print(\"Press 'q' key to stop recording...\")\n",
    "\n",
    "try:\n",
    "    while True:\n",
    "        # Capture the screen\n",
    "        screenshot = ImageGrab.grab()\n",
    "        \n",
    "        frame = np.array(screenshot)\n",
    "        frame = cv2.cvtColor(frame, cv2.COLOR_RGB2BGR)\n",
    "\n",
    "        # Write the frame to the video file\n",
    "        out.write(frame)\n",
    "\n",
    "        # Show the frame (useful for monitoring)\n",
    "        cv2.imshow(\"Recording\", frame)\n",
    "\n",
    "        # Stop recording when 'q' is pressed\n",
    "        if cv2.waitKey(1) & 0xFF == ord('q'): break\n",
    "\n",
    "except KeyboardInterrupt:\n",
    "    print(\"Recording stopped.\")\n",
    "\n",
    "# Release resources\n",
    "out.release()\n",
    "cv2.destroyAllWindows()"
   ]
  }
 ],
 "metadata": {
  "kernelspec": {
   "display_name": "Python 3",
   "language": "python",
   "name": "python3"
  },
  "language_info": {
   "codemirror_mode": {
    "name": "ipython",
    "version": 3
   },
   "file_extension": ".py",
   "mimetype": "text/x-python",
   "name": "python",
   "nbconvert_exporter": "python",
   "pygments_lexer": "ipython3",
   "version": "3.11.9"
  }
 },
 "nbformat": 4,
 "nbformat_minor": 2
}
